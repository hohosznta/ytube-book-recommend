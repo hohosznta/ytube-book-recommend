{
 "cells": [
  {
   "cell_type": "code",
   "execution_count": 1,
   "metadata": {},
   "outputs": [],
   "source": [
    "import qdrant_client\n",
    "qdrant = qdrant_client.QdrantClient(host=\"localhost\", port=6333)"
   ]
  },
  {
   "cell_type": "code",
   "execution_count": 11,
   "metadata": {},
   "outputs": [
    {
     "data": {
      "text/html": [
       "<div>\n",
       "<style scoped>\n",
       "    .dataframe tbody tr th:only-of-type {\n",
       "        vertical-align: middle;\n",
       "    }\n",
       "\n",
       "    .dataframe tbody tr th {\n",
       "        vertical-align: top;\n",
       "    }\n",
       "\n",
       "    .dataframe thead th {\n",
       "        text-align: right;\n",
       "    }\n",
       "</style>\n",
       "<table border=\"1\" class=\"dataframe\">\n",
       "  <thead>\n",
       "    <tr style=\"text-align: right;\">\n",
       "      <th></th>\n",
       "      <th>ISBN_THIRTEEN_NO</th>\n",
       "      <th>TITLE_NM</th>\n",
       "      <th>AUTHR_NM</th>\n",
       "      <th>IMAGE_URL</th>\n",
       "      <th>BOOK_INTRCN_CN</th>\n",
       "      <th>TWO_PBLICTE_DE</th>\n",
       "      <th>combined</th>\n",
       "      <th>embedding</th>\n",
       "    </tr>\n",
       "  </thead>\n",
       "  <tbody>\n",
       "    <tr>\n",
       "      <th>0</th>\n",
       "      <td>9791156759270</td>\n",
       "      <td>너에게 목소리를 보낼게 - &amp;lt;달빛천사&amp;gt; 성우 이용신의 첫 번째 에세이</td>\n",
       "      <td>이용신 (지은이)</td>\n",
       "      <td>https://image.aladin.co.kr/product/28415/8/cov...</td>\n",
       "      <td>2004년 방영한 애니메이션 &amp;lt;달빛천사&amp;gt;에서 주인공 루나(풀문) 역을 맡...</td>\n",
       "      <td>2021-12-03</td>\n",
       "      <td>Title: 너에게 목소리를 보낼게 - &amp;lt;달빛천사&amp;gt; 성우 이용신의 첫 번...</td>\n",
       "      <td>[0.07661158591508865, -0.014539572410285473, -...</td>\n",
       "    </tr>\n",
       "    <tr>\n",
       "      <th>1</th>\n",
       "      <td>9791168120877</td>\n",
       "      <td>일기에도 거짓말을 쓰는 사람 - 99년생 시인의 자의식 과잉 에세이</td>\n",
       "      <td>차도하 (지은이)</td>\n",
       "      <td>https://image.aladin.co.kr/product/28414/66/co...</td>\n",
       "      <td>“그러니 나는 말하고 싶은 것을 말하겠다”「침착하게 사랑하기」 차도하 시인 첫 에세...</td>\n",
       "      <td>2021-12-06</td>\n",
       "      <td>Title: 일기에도 거짓말을 쓰는 사람 - 99년생 시인의 자의식 과잉 에세이; ...</td>\n",
       "      <td>[0.07918298244476318, -0.02614027075469494, -0...</td>\n",
       "    </tr>\n",
       "    <tr>\n",
       "      <th>2</th>\n",
       "      <td>9791168120839</td>\n",
       "      <td>본격 한중일 세계사 12 - 임오군란과 통킹 위기</td>\n",
       "      <td>굽시니스트 (지은이)</td>\n",
       "      <td>https://image.aladin.co.kr/product/28414/47/co...</td>\n",
       "      <td>한중일 관계의 결정적 분기점인 임오군란의 막전 막후를 다룬다. 러시아의 세력 확장을...</td>\n",
       "      <td>2021-12-01</td>\n",
       "      <td>Title: 본격 한중일 세계사 12 - 임오군란과 통킹 위기; Content: 한...</td>\n",
       "      <td>[0.04609770327806473, 0.08594229072332382, -0....</td>\n",
       "    </tr>\n",
       "    <tr>\n",
       "      <th>3</th>\n",
       "      <td>9791168120846</td>\n",
       "      <td>즉시 기분을 바꿔드립니다 - 신기하게 마음이 편해지는 응급 처방전</td>\n",
       "      <td>올리비아 레메스 (지은이), 김잔디 (옮긴이)</td>\n",
       "      <td>https://image.aladin.co.kr/product/28414/30/co...</td>\n",
       "      <td>누구에게나 기분 구급상자가 필요하다. 하나씩 하나씩 차근차근, 좋은 기분을 쌓고 건...</td>\n",
       "      <td>2021-12-01</td>\n",
       "      <td>Title: 즉시 기분을 바꿔드립니다 - 신기하게 마음이 편해지는 응급 처방전; C...</td>\n",
       "      <td>[0.05182841047644615, 0.0358114056289196, -0.0...</td>\n",
       "    </tr>\n",
       "    <tr>\n",
       "      <th>4</th>\n",
       "      <td>9791168120747</td>\n",
       "      <td>오늘도 리추얼 : 음악, 나에게 선물하는 시간</td>\n",
       "      <td>정혜윤 (지은이)</td>\n",
       "      <td>https://image.aladin.co.kr/product/28413/80/co...</td>\n",
       "      <td>나다운 일상을 만드는 사람들의 이야기를 담은 『오늘도 리추얼』 시리즈가 위즈덤하우스...</td>\n",
       "      <td>2021-12-01</td>\n",
       "      <td>Title: 오늘도 리추얼 : 음악, 나에게 선물하는 시간; Content: 나다운...</td>\n",
       "      <td>[0.044340625405311584, -0.001190714887343347, ...</td>\n",
       "    </tr>\n",
       "    <tr>\n",
       "      <th>...</th>\n",
       "      <td>...</td>\n",
       "      <td>...</td>\n",
       "      <td>...</td>\n",
       "      <td>...</td>\n",
       "      <td>...</td>\n",
       "      <td>...</td>\n",
       "      <td>...</td>\n",
       "      <td>...</td>\n",
       "    </tr>\n",
       "    <tr>\n",
       "      <th>82520</th>\n",
       "      <td>9791197569708</td>\n",
       "      <td>우리 없는 세상</td>\n",
       "      <td>로빈 스티븐슨 (지은이), 이은주 (옮긴이), 황상민 (감수)</td>\n",
       "      <td>https://image.aladin.co.kr/product/28540/73/co...</td>\n",
       "      <td>작가는 사회복지사와 상담가로 오래 일했다. 그는 자살로 누군가를 잃었거나 스스로 자...</td>\n",
       "      <td>2021-12-20</td>\n",
       "      <td>Title: 우리 없는 세상; Content: 작가는 사회복지사와 상담가로 오래 일...</td>\n",
       "      <td>[0.05330181121826172, 0.036431942135095596, 0....</td>\n",
       "    </tr>\n",
       "    <tr>\n",
       "      <th>82521</th>\n",
       "      <td>9791138804486</td>\n",
       "      <td>위대한 영혼의 미소</td>\n",
       "      <td>이한옥 (지은이)</td>\n",
       "      <td>https://image.aladin.co.kr/product/28511/70/co...</td>\n",
       "      <td>재외 작가의 장편소설. 인고와 눈물로 점철된 코리안 뉴요커들의 이민 역정을 다룬 이...</td>\n",
       "      <td>2021-12-08</td>\n",
       "      <td>Title: 위대한 영혼의 미소; Content: 재외 작가의 장편소설. 인고와 눈...</td>\n",
       "      <td>[0.04476550221443176, 0.049679797142744064, 0....</td>\n",
       "    </tr>\n",
       "    <tr>\n",
       "      <th>82522</th>\n",
       "      <td>9791138804523</td>\n",
       "      <td>잊지 말자, 나는 기적이라는 걸 - 늘 그랬던 것처럼, 신발 끈을 고쳐 맬 우리</td>\n",
       "      <td>정매일 (지은이)</td>\n",
       "      <td>https://image.aladin.co.kr/product/28548/88/co...</td>\n",
       "      <td>갑작스레 세상에 나 혼자 남겨진 느낌이 들 때가 있다. 주위가 암전되고 덩그러니 남...</td>\n",
       "      <td>2021-12-05</td>\n",
       "      <td>Title: 잊지 말자, 나는 기적이라는 걸 - 늘 그랬던 것처럼, 신발 끈을 고쳐...</td>\n",
       "      <td>[0.05430883169174194, 0.032628659158945084, -0...</td>\n",
       "    </tr>\n",
       "    <tr>\n",
       "      <th>82523</th>\n",
       "      <td>9791197549335</td>\n",
       "      <td>전념 - 나와 세상을 바꾸는 힘에 관하여</td>\n",
       "      <td>피트 데이비스 (지은이), 신유희 (옮긴이)</td>\n",
       "      <td>https://image.aladin.co.kr/product/28542/24/co...</td>\n",
       "      <td>오랫동안 하나의 목적을 이루기 위해 전념한 다양한 영웅들의 사례도 제시하고 있다. ...</td>\n",
       "      <td>2022-01-05</td>\n",
       "      <td>Title: 전념 - 나와 세상을 바꾸는 힘에 관하여; Content: 오랫동안 하...</td>\n",
       "      <td>[0.07586272060871124, 0.02601887285709381, -0....</td>\n",
       "    </tr>\n",
       "    <tr>\n",
       "      <th>82524</th>\n",
       "      <td>9788970936222</td>\n",
       "      <td>2022 예산회계실무 기본서 - 지방자치단체 및 공공기관의</td>\n",
       "      <td>강인옥, 최두선, 최기웅 (지은이)</td>\n",
       "      <td>https://image.aladin.co.kr/product/28485/41/co...</td>\n",
       "      <td>지방자치단체와 공공기관(공기업, 출자ㆍ출연기관, 민간위탁, 보조단체 포함)에서 회계...</td>\n",
       "      <td>2021-12-27</td>\n",
       "      <td>Title: 2022 예산회계실무 기본서 - 지방자치단체 및 공공기관의; Conte...</td>\n",
       "      <td>[-0.001166055561043322, 0.03201407194137573, 0...</td>\n",
       "    </tr>\n",
       "  </tbody>\n",
       "</table>\n",
       "<p>82525 rows × 8 columns</p>\n",
       "</div>"
      ],
      "text/plain": [
       "       ISBN_THIRTEEN_NO                                      TITLE_NM  \\\n",
       "0         9791156759270  너에게 목소리를 보낼게 - &lt;달빛천사&gt; 성우 이용신의 첫 번째 에세이   \n",
       "1         9791168120877         일기에도 거짓말을 쓰는 사람 - 99년생 시인의 자의식 과잉 에세이   \n",
       "2         9791168120839                   본격 한중일 세계사 12 - 임오군란과 통킹 위기   \n",
       "3         9791168120846          즉시 기분을 바꿔드립니다 - 신기하게 마음이 편해지는 응급 처방전   \n",
       "4         9791168120747                     오늘도 리추얼 : 음악, 나에게 선물하는 시간   \n",
       "...                 ...                                           ...   \n",
       "82520     9791197569708                                      우리 없는 세상   \n",
       "82521     9791138804486                                    위대한 영혼의 미소   \n",
       "82522     9791138804523  잊지 말자, 나는 기적이라는 걸 - 늘 그랬던 것처럼, 신발 끈을 고쳐 맬 우리   \n",
       "82523     9791197549335                        전념 - 나와 세상을 바꾸는 힘에 관하여   \n",
       "82524     9788970936222              2022 예산회계실무 기본서 - 지방자치단체 및 공공기관의   \n",
       "\n",
       "                                 AUTHR_NM  \\\n",
       "0                               이용신 (지은이)   \n",
       "1                               차도하 (지은이)   \n",
       "2                             굽시니스트 (지은이)   \n",
       "3               올리비아 레메스 (지은이), 김잔디 (옮긴이)   \n",
       "4                               정혜윤 (지은이)   \n",
       "...                                   ...   \n",
       "82520  로빈 스티븐슨 (지은이), 이은주 (옮긴이), 황상민 (감수)   \n",
       "82521                           이한옥 (지은이)   \n",
       "82522                           정매일 (지은이)   \n",
       "82523            피트 데이비스 (지은이), 신유희 (옮긴이)   \n",
       "82524                 강인옥, 최두선, 최기웅 (지은이)   \n",
       "\n",
       "                                               IMAGE_URL  \\\n",
       "0      https://image.aladin.co.kr/product/28415/8/cov...   \n",
       "1      https://image.aladin.co.kr/product/28414/66/co...   \n",
       "2      https://image.aladin.co.kr/product/28414/47/co...   \n",
       "3      https://image.aladin.co.kr/product/28414/30/co...   \n",
       "4      https://image.aladin.co.kr/product/28413/80/co...   \n",
       "...                                                  ...   \n",
       "82520  https://image.aladin.co.kr/product/28540/73/co...   \n",
       "82521  https://image.aladin.co.kr/product/28511/70/co...   \n",
       "82522  https://image.aladin.co.kr/product/28548/88/co...   \n",
       "82523  https://image.aladin.co.kr/product/28542/24/co...   \n",
       "82524  https://image.aladin.co.kr/product/28485/41/co...   \n",
       "\n",
       "                                          BOOK_INTRCN_CN TWO_PBLICTE_DE  \\\n",
       "0      2004년 방영한 애니메이션 &lt;달빛천사&gt;에서 주인공 루나(풀문) 역을 맡...     2021-12-03   \n",
       "1      “그러니 나는 말하고 싶은 것을 말하겠다”「침착하게 사랑하기」 차도하 시인 첫 에세...     2021-12-06   \n",
       "2      한중일 관계의 결정적 분기점인 임오군란의 막전 막후를 다룬다. 러시아의 세력 확장을...     2021-12-01   \n",
       "3      누구에게나 기분 구급상자가 필요하다. 하나씩 하나씩 차근차근, 좋은 기분을 쌓고 건...     2021-12-01   \n",
       "4      나다운 일상을 만드는 사람들의 이야기를 담은 『오늘도 리추얼』 시리즈가 위즈덤하우스...     2021-12-01   \n",
       "...                                                  ...            ...   \n",
       "82520  작가는 사회복지사와 상담가로 오래 일했다. 그는 자살로 누군가를 잃었거나 스스로 자...     2021-12-20   \n",
       "82521  재외 작가의 장편소설. 인고와 눈물로 점철된 코리안 뉴요커들의 이민 역정을 다룬 이...     2021-12-08   \n",
       "82522  갑작스레 세상에 나 혼자 남겨진 느낌이 들 때가 있다. 주위가 암전되고 덩그러니 남...     2021-12-05   \n",
       "82523  오랫동안 하나의 목적을 이루기 위해 전념한 다양한 영웅들의 사례도 제시하고 있다. ...     2022-01-05   \n",
       "82524  지방자치단체와 공공기관(공기업, 출자ㆍ출연기관, 민간위탁, 보조단체 포함)에서 회계...     2021-12-27   \n",
       "\n",
       "                                                combined  \\\n",
       "0      Title: 너에게 목소리를 보낼게 - &lt;달빛천사&gt; 성우 이용신의 첫 번...   \n",
       "1      Title: 일기에도 거짓말을 쓰는 사람 - 99년생 시인의 자의식 과잉 에세이; ...   \n",
       "2      Title: 본격 한중일 세계사 12 - 임오군란과 통킹 위기; Content: 한...   \n",
       "3      Title: 즉시 기분을 바꿔드립니다 - 신기하게 마음이 편해지는 응급 처방전; C...   \n",
       "4      Title: 오늘도 리추얼 : 음악, 나에게 선물하는 시간; Content: 나다운...   \n",
       "...                                                  ...   \n",
       "82520  Title: 우리 없는 세상; Content: 작가는 사회복지사와 상담가로 오래 일...   \n",
       "82521  Title: 위대한 영혼의 미소; Content: 재외 작가의 장편소설. 인고와 눈...   \n",
       "82522  Title: 잊지 말자, 나는 기적이라는 걸 - 늘 그랬던 것처럼, 신발 끈을 고쳐...   \n",
       "82523  Title: 전념 - 나와 세상을 바꾸는 힘에 관하여; Content: 오랫동안 하...   \n",
       "82524  Title: 2022 예산회계실무 기본서 - 지방자치단체 및 공공기관의; Conte...   \n",
       "\n",
       "                                               embedding  \n",
       "0      [0.07661158591508865, -0.014539572410285473, -...  \n",
       "1      [0.07918298244476318, -0.02614027075469494, -0...  \n",
       "2      [0.04609770327806473, 0.08594229072332382, -0....  \n",
       "3      [0.05182841047644615, 0.0358114056289196, -0.0...  \n",
       "4      [0.044340625405311584, -0.001190714887343347, ...  \n",
       "...                                                  ...  \n",
       "82520  [0.05330181121826172, 0.036431942135095596, 0....  \n",
       "82521  [0.04476550221443176, 0.049679797142744064, 0....  \n",
       "82522  [0.05430883169174194, 0.032628659158945084, -0...  \n",
       "82523  [0.07586272060871124, 0.02601887285709381, -0....  \n",
       "82524  [-0.001166055561043322, 0.03201407194137573, 0...  \n",
       "\n",
       "[82525 rows x 8 columns]"
      ]
     },
     "execution_count": 11,
     "metadata": {},
     "output_type": "execute_result"
    }
   ],
   "source": [
    "df"
   ]
  },
  {
   "cell_type": "code",
   "execution_count": 13,
   "metadata": {},
   "outputs": [],
   "source": [
    "import ast\n",
    "df['embedding'] = df['embedding'].apply(ast.literal_eval)\n",
    "\n",
    "# Ensure 'embedding' is a list of floats\n",
    "def is_valid_vector(vec):\n",
    "    return isinstance(vec, list) and all(isinstance(x, (int, float)) for x in vec)\n",
    "\n",
    "df = df[df['embedding'].apply(is_valid_vector)]"
   ]
  },
  {
   "cell_type": "code",
   "execution_count": 23,
   "metadata": {},
   "outputs": [
    {
     "name": "stderr",
     "output_type": "stream",
     "text": [
      "/tmp/ipykernel_120698/3862506760.py:6: DeprecationWarning: `recreate_collection` method is deprecated and will be removed in the future. Use `collection_exists` to check collection existence and `create_collection` instead.\n",
      "  qdrant.recreate_collection(\n"
     ]
    },
    {
     "data": {
      "text/plain": [
       "True"
      ]
     },
     "execution_count": 23,
     "metadata": {},
     "output_type": "execute_result"
    }
   ],
   "source": [
    "from qdrant_client.http import models as rest\n",
    "# Get the vector size from the first row to set up the collection\n",
    "vector_size = len(df.iloc[0]['embedding'])\n",
    "\n",
    "# Set up the collection with the vector configuration. You need to declare the vector size and distance metric for the collection. Distance metric enables vector database to index and search vectors efficiently.\n",
    "qdrant.recreate_collection(\n",
    "    collection_name='Books',\n",
    "    vectors_config={\n",
    "        'combined': rest.VectorParams(\n",
    "            distance=rest.Distance.COSINE,\n",
    "            size=vector_size,\n",
    "        ),\n",
    "    }\n",
    ")"
   ]
  },
  {
   "cell_type": "code",
   "execution_count": 24,
   "metadata": {},
   "outputs": [
    {
     "name": "stderr",
     "output_type": "stream",
     "text": [
      "Upserting articles: 100%|██████████| 82525/82525 [04:01<00:00, 341.85it/s]\n"
     ]
    }
   ],
   "source": [
    "import pandas as pd\n",
    "from qdrant_client.models import PointStruct # Import the PointStruct to store the vector and payload\n",
    "from tqdm import tqdm # Library to show the progress bar \n",
    "\n",
    "# Populate collection with vectors using tqdm to show progress\n",
    "for k, v in tqdm(df.iterrows(), desc=\"Upserting articles\", total=len(df)):\n",
    "    try:\n",
    "        qdrant.upsert(\n",
    "            collection_name='Books',\n",
    "            points=[\n",
    "                PointStruct(\n",
    "                    id=k,\n",
    "                    vector={'combined': v['embedding']},\n",
    "                    payload={\n",
    "                        'author': v['AUTHR_NM'],\n",
    "                        'title': v['TITLE_NM'],\n",
    "                        'url': v[\"IMAGE_URL\"],\n",
    "                        \"date\": v[\"TWO_PBLICTE_DE\"]\n",
    "                    }\n",
    "                )\n",
    "            ]\n",
    "        )\n",
    "    except Exception as e:\n",
    "        print(f\"Failed to upsert row {k}: {v}\")\n",
    "        print(f\"Exception: {e}\")"
   ]
  },
  {
   "cell_type": "code",
   "execution_count": 25,
   "metadata": {},
   "outputs": [
    {
     "data": {
      "text/plain": [
       "CountResult(count=82525)"
      ]
     },
     "execution_count": 25,
     "metadata": {},
     "output_type": "execute_result"
    }
   ],
   "source": [
    "qdrant.count(collection_name='Books')"
   ]
  },
  {
   "cell_type": "code",
   "execution_count": 18,
   "metadata": {},
   "outputs": [],
   "source": [
    "from openai import OpenAI\n",
    "\n",
    "openai = OpenAI( api_key=\"sk-proj-yHTYlXnG7IY2kjYyz28ST3BlbkFJHuJ9QIpnn5W2CZHSH3Ju\")\n",
    "\n",
    "def query_qdrant(query, collection_name, vector_name='combined', top_k=3):\n",
    "\n",
    "    # Creates embedding vector from user query\n",
    "    embedded_query = openai.embeddings.create(\n",
    "        input=query,\n",
    "        model=\"text-embedding-3-small\",\n",
    "    ).data[0].embedding # We take the first embedding from the list\n",
    "    \n",
    "    query_results = qdrant.search(\n",
    "        collection_name=collection_name,\n",
    "        query_vector=(\n",
    "            vector_name, embedded_query\n",
    "        ),\n",
    "        limit=top_k, \n",
    "        query_filter=None\n",
    "    )\n",
    "    \n",
    "    return query_results"
   ]
  },
  {
   "cell_type": "code",
   "execution_count": 27,
   "metadata": {},
   "outputs": [
    {
     "name": "stdout",
     "output_type": "stream",
     "text": [
      "1. 제목: 강아지 , 작가: 구성: 브레인 스쿨 ;사진: 임인학 외, URL: https://bookthumb-phinf.pstatic.net/cover/064/492/06449225.jpg?type=m1&udate=20110810, (Score: 0.463)\n",
      "2. 제목: 강아지 도감:전 세계 강아지 105종 등장!, 작가: 우에키 히로유키;김창원 역, URL: http://image.aladin.co.kr/product/51/28/cover/8972214302_2.jpg, (Score: 0.451)\n",
      "3. 제목: 슈퍼 능력 강아지, 작가: 고수산나 (지은이), 이유나 (그림), URL: https://image.aladin.co.kr/product/28426/63/cover/k752835317_1.jpg, (Score: 0.451)\n"
     ]
    }
   ],
   "source": [
    "query_results = query_qdrant('강아지', 'Books',)\n",
    "for i, article in enumerate(query_results):\n",
    "    print(f'{i + 1}. 제목: {article.payload[\"title\"]}, 작가: {article.payload[\"author\"]}, URL: {article.payload[\"url\"]}, (Score: {round(article.score, 3)})')"
   ]
  },
  {
   "cell_type": "code",
   "execution_count": 21,
   "metadata": {},
   "outputs": [
    {
     "data": {
      "text/plain": [
       "[ScoredPoint(id=18125, version=21674, score=0.46300617, payload={'date': '2010-12-20', 'id': '구성: 브레인 스쿨 ;사진: 임인학 외', 'url': 'https://bookthumb-phinf.pstatic.net/cover/064/492/06449225.jpg?type=m1&udate=20110810'}, vector=None, shard_key=None, order_value=None),\n",
       " ScoredPoint(id=8568, version=12117, score=0.45125264, payload={'date': '2004-08-30', 'id': '우에키 히로유키;김창원 역', 'url': 'http://image.aladin.co.kr/product/51/28/cover/8972214302_2.jpg'}, vector=None, shard_key=None, order_value=None),\n",
       " ScoredPoint(id=999, version=4548, score=0.45069182, payload={'date': '2021-11-24', 'id': '고수산나 (지은이), 이유나 (그림)', 'url': 'https://image.aladin.co.kr/product/28426/63/cover/k752835317_1.jpg'}, vector=None, shard_key=None, order_value=None)]"
      ]
     },
     "execution_count": 21,
     "metadata": {},
     "output_type": "execute_result"
    }
   ],
   "source": [
    "query_results"
   ]
  },
  {
   "cell_type": "code",
   "execution_count": null,
   "metadata": {},
   "outputs": [],
   "source": []
  }
 ],
 "metadata": {
  "kernelspec": {
   "display_name": "llama3phidata",
   "language": "python",
   "name": "python3"
  },
  "language_info": {
   "codemirror_mode": {
    "name": "ipython",
    "version": 3
   },
   "file_extension": ".py",
   "mimetype": "text/x-python",
   "name": "python",
   "nbconvert_exporter": "python",
   "pygments_lexer": "ipython3",
   "version": "3.11.9"
  }
 },
 "nbformat": 4,
 "nbformat_minor": 2
}
