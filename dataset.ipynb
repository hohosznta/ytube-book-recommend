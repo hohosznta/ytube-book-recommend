{
 "cells": [
  {
   "cell_type": "code",
   "execution_count": 1,
   "metadata": {},
   "outputs": [],
   "source": [
    "import pandas as pd\n",
    "import tiktoken\n",
    "\n",
    "from embeddings_utils import get_embedding"
   ]
  },
  {
   "cell_type": "code",
   "execution_count": 2,
   "metadata": {},
   "outputs": [],
   "source": [
    "embedding_model = \"text-embedding-3-small\"\n",
    "embedding_encoding = \"cl100k_base\"\n",
    "max_tokens = 8000  # the maximum for text-embedding-3-small is 8191"
   ]
  },
  {
   "cell_type": "code",
   "execution_count": 12,
   "metadata": {},
   "outputs": [
    {
     "data": {
      "text/html": [
       "<div>\n",
       "<style scoped>\n",
       "    .dataframe tbody tr th:only-of-type {\n",
       "        vertical-align: middle;\n",
       "    }\n",
       "\n",
       "    .dataframe tbody tr th {\n",
       "        vertical-align: top;\n",
       "    }\n",
       "\n",
       "    .dataframe thead th {\n",
       "        text-align: right;\n",
       "    }\n",
       "</style>\n",
       "<table border=\"1\" class=\"dataframe\">\n",
       "  <thead>\n",
       "    <tr style=\"text-align: right;\">\n",
       "      <th></th>\n",
       "      <th>TITLE_NM</th>\n",
       "      <th>AUTHR_NM</th>\n",
       "      <th>IMAGE_URL</th>\n",
       "      <th>BOOK_INTRCN_CN</th>\n",
       "      <th>TWO_PBLICTE_DE</th>\n",
       "      <th>combined</th>\n",
       "    </tr>\n",
       "    <tr>\n",
       "      <th>ISBN_THIRTEEN_NO</th>\n",
       "      <th></th>\n",
       "      <th></th>\n",
       "      <th></th>\n",
       "      <th></th>\n",
       "      <th></th>\n",
       "      <th></th>\n",
       "    </tr>\n",
       "  </thead>\n",
       "  <tbody>\n",
       "    <tr>\n",
       "      <th>9791156759270</th>\n",
       "      <td>너에게 목소리를 보낼게 - &amp;lt;달빛천사&amp;gt; 성우 이용신의 첫 번째 에세이</td>\n",
       "      <td>이용신 (지은이)</td>\n",
       "      <td>https://image.aladin.co.kr/product/28415/8/cov...</td>\n",
       "      <td>2004년 방영한 애니메이션 &amp;lt;달빛천사&amp;gt;에서 주인공 루나(풀문) 역을 맡...</td>\n",
       "      <td>2021-12-03</td>\n",
       "      <td>Title: 너에게 목소리를 보낼게 - &amp;lt;달빛천사&amp;gt; 성우 이용신의 첫 번...</td>\n",
       "    </tr>\n",
       "    <tr>\n",
       "      <th>9791168120877</th>\n",
       "      <td>일기에도 거짓말을 쓰는 사람 - 99년생 시인의 자의식 과잉 에세이</td>\n",
       "      <td>차도하 (지은이)</td>\n",
       "      <td>https://image.aladin.co.kr/product/28414/66/co...</td>\n",
       "      <td>“그러니 나는 말하고 싶은 것을 말하겠다”「침착하게 사랑하기」 차도하 시인 첫 에세...</td>\n",
       "      <td>2021-12-06</td>\n",
       "      <td>Title: 일기에도 거짓말을 쓰는 사람 - 99년생 시인의 자의식 과잉 에세이; ...</td>\n",
       "    </tr>\n",
       "  </tbody>\n",
       "</table>\n",
       "</div>"
      ],
      "text/plain": [
       "                                                      TITLE_NM   AUTHR_NM  \\\n",
       "ISBN_THIRTEEN_NO                                                            \n",
       "9791156759270     너에게 목소리를 보낼게 - &lt;달빛천사&gt; 성우 이용신의 첫 번째 에세이  이용신 (지은이)   \n",
       "9791168120877            일기에도 거짓말을 쓰는 사람 - 99년생 시인의 자의식 과잉 에세이  차도하 (지은이)   \n",
       "\n",
       "                                                          IMAGE_URL  \\\n",
       "ISBN_THIRTEEN_NO                                                      \n",
       "9791156759270     https://image.aladin.co.kr/product/28415/8/cov...   \n",
       "9791168120877     https://image.aladin.co.kr/product/28414/66/co...   \n",
       "\n",
       "                                                     BOOK_INTRCN_CN  \\\n",
       "ISBN_THIRTEEN_NO                                                      \n",
       "9791156759270     2004년 방영한 애니메이션 &lt;달빛천사&gt;에서 주인공 루나(풀문) 역을 맡...   \n",
       "9791168120877     “그러니 나는 말하고 싶은 것을 말하겠다”「침착하게 사랑하기」 차도하 시인 첫 에세...   \n",
       "\n",
       "                 TWO_PBLICTE_DE  \\\n",
       "ISBN_THIRTEEN_NO                  \n",
       "9791156759270        2021-12-03   \n",
       "9791168120877        2021-12-06   \n",
       "\n",
       "                                                           combined  \n",
       "ISBN_THIRTEEN_NO                                                     \n",
       "9791156759270     Title: 너에게 목소리를 보낼게 - &lt;달빛천사&gt; 성우 이용신의 첫 번...  \n",
       "9791168120877     Title: 일기에도 거짓말을 쓰는 사람 - 99년생 시인의 자의식 과잉 에세이; ...  "
      ]
     },
     "execution_count": 12,
     "metadata": {},
     "output_type": "execute_result"
    }
   ],
   "source": [
    "# load & inspect dataset\n",
    "input_datapath = \"filtered_book_info.csv\"  # to save space, we provide a pre-filtered dataset\n",
    "df = pd.read_csv(input_datapath, index_col=0)\n",
    "df = df[[ \"TITLE_NM\", \"AUTHR_NM\", \"IMAGE_URL\", \"BOOK_INTRCN_CN\", \"TWO_PBLICTE_DE\"]]\n",
    "df = df.dropna()\n",
    "df[\"combined\"] = (\n",
    "    \"Title: \" + df.TITLE_NM.str.strip() + \"; Content: \" + df.BOOK_INTRCN_CN.str.strip()\n",
    ")\n",
    "df.head(2)"
   ]
  },
  {
   "cell_type": "code",
   "execution_count": 14,
   "metadata": {},
   "outputs": [],
   "source": [
    "# Ensur[\"ISBN_THIRTEEN_NO\", \"TITLE_NM\", \"AUTHOR_NM\", \"IMAGE_URL, \"BOOK_INTRCN_CN\", \"TWO_PBLICTE_DE\"]e you have your API key set in your environment per the README: https://github.com/openai/openai-python#usage\n",
    "\n",
    "# This may take a few minutes\n",
    "df[\"embedding\"] = df.combined.apply(lambda x: get_embedding(x, model=embedding_model))\n",
    "df.to_csv(\"filtered_book_info_embedded.csv\")"
   ]
  },
  {
   "cell_type": "code",
   "execution_count": 6,
   "metadata": {},
   "outputs": [
    {
     "data": {
      "text/plain": [
       "CollectionsResponse(collections=[CollectionDescription(name='Books'), CollectionDescription(name='Articles')])"
      ]
     },
     "execution_count": 6,
     "metadata": {},
     "output_type": "execute_result"
    }
   ],
   "source": [
    "import qdrant_client\n",
    "qdrant = qdrant_client.QdrantClient(host=\"localhost\", port=6333)\n",
    "qdrant.get_collections()"
   ]
  },
  {
   "cell_type": "code",
   "execution_count": 3,
   "metadata": {},
   "outputs": [],
   "source": [
    "from qdrant_client.http import models as rest"
   ]
  },
  {
   "cell_type": "code",
   "execution_count": 22,
   "metadata": {},
   "outputs": [
    {
     "data": {
      "text/plain": [
       "ISBN_THIRTEEN_NO\n",
       "9791156759270    [0.07661158591508865, -0.014539572410285473, -...\n",
       "9791168120877    [0.07918298244476318, -0.02614027075469494, -0...\n",
       "9791168120839    [0.04609770327806473, 0.08594229072332382, -0....\n",
       "9791168120846    [0.05182841047644615, 0.0358114056289196, -0.0...\n",
       "9791168120747    [0.044340625405311584, -0.001190714887343347, ...\n",
       "                                       ...                        \n",
       "9791197569708    [0.05330181121826172, 0.036431942135095596, 0....\n",
       "9791138804486    [0.04476550221443176, 0.049679797142744064, 0....\n",
       "9791138804523    [0.05430883169174194, 0.032628659158945084, -0...\n",
       "9791197549335    [0.07586272060871124, 0.02601887285709381, -0....\n",
       "9788970936222    [-0.001166055561043322, 0.03201407194137573, 0...\n",
       "Name: embedding, Length: 82525, dtype: object"
      ]
     },
     "execution_count": 22,
     "metadata": {},
     "output_type": "execute_result"
    }
   ],
   "source": [
    "df[\"embedding\"]"
   ]
  },
  {
   "cell_type": "code",
   "execution_count": 10,
   "metadata": {},
   "outputs": [],
   "source": [
    "\n",
    "\n",
    "import ast\n",
    "\n",
    "def convert_embedding(embedding):\n",
    "    if isinstance(embedding, str):\n",
    "        # Convert string representation of list to actual list\n",
    "        embedding = ast.literal_eval(embedding)\n",
    "    return embedding\n",
    "\n",
    "# Apply the conversion to the 'embedding' column\n",
    "df['embedding'] = df['embedding'].apply(convert_embedding)\n"
   ]
  },
  {
   "cell_type": "code",
   "execution_count": 12,
   "metadata": {},
   "outputs": [
    {
     "name": "stderr",
     "output_type": "stream",
     "text": [
      "/tmp/ipykernel_7872/3021524695.py:5: DeprecationWarning: `recreate_collection` method is deprecated and will be removed in the future. Use `collection_exists` to check collection existence and `create_collection` instead.\n",
      "  qdrant.recreate_collection(\n"
     ]
    },
    {
     "data": {
      "text/plain": [
       "True"
      ]
     },
     "execution_count": 12,
     "metadata": {},
     "output_type": "execute_result"
    }
   ],
   "source": [
    "\n",
    "# Get the vector size from the first row to set up the collection\n",
    "vector_size = len(df.iloc[0]['embedding'])\n",
    "\n",
    "# Set up the collection with the vector configuration. You need to declare the vector size and distance metric for the collection. Distance metric enables vector database to index and search vectors efficiently.\n",
    "qdrant.recreate_collection(\n",
    "    collection_name='Book2',\n",
    "    vectors_config={\n",
    "        'combined': rest.VectorParams(\n",
    "            distance=rest.Distance.COSINE,\n",
    "            size=vector_size,\n",
    "        ),\n",
    "    }\n",
    ")"
   ]
  },
  {
   "cell_type": "code",
   "execution_count": 13,
   "metadata": {},
   "outputs": [
    {
     "name": "stderr",
     "output_type": "stream",
     "text": [
      "Upserting articles: 100%|██████████| 82525/82525 [03:51<00:00, 355.79it/s]\n"
     ]
    }
   ],
   "source": [
    "\n",
    "\n",
    "from qdrant_client.models import PointStruct # Import the PointStruct to store the vector and payload\n",
    "from tqdm import tqdm # Library to show the progress bar \n",
    "\n",
    "# Populate collection with vectors using tqdm to show progress\n",
    "for k, v in tqdm(df.iterrows(), desc=\"Upserting articles\", total=len(df)):\n",
    "    try:\n",
    "        qdrant.upsert(\n",
    "            collection_name='Book2',\n",
    "            points=[\n",
    "                PointStruct(\n",
    "                    id=k,\n",
    "                    vector={'combined': v['embedding']},\n",
    "                    payload={\n",
    "                        'id': v['AUTHR_NM'],\n",
    "                        'title': v['TITLE_NM'],\n",
    "                        'url': v[\"IMAGE_URL\"],\n",
    "                        'intro': v[\"BOOK_INTRCN_CN\"],\n",
    "                        \"date\": v[\"TWO_PBLICTE_DE\"]\n",
    "                    }\n",
    "                )\n",
    "            ]\n",
    "        )\n",
    "    except Exception as e:\n",
    "        print(f\"Failed to upsert row {k}: {v}\")\n",
    "        print(f\"Exception: {e}\")"
   ]
  },
  {
   "cell_type": "code",
   "execution_count": 8,
   "metadata": {},
   "outputs": [
    {
     "ename": "NameError",
     "evalue": "name 'qdrant' is not defined",
     "output_type": "error",
     "traceback": [
      "\u001b[0;31m---------------------------------------------------------------------------\u001b[0m",
      "\u001b[0;31mNameError\u001b[0m                                 Traceback (most recent call last)",
      "Cell \u001b[0;32mIn[8], line 2\u001b[0m\n\u001b[1;32m      1\u001b[0m \u001b[38;5;66;03m# Check the collection size to make sure all the points have been stored\u001b[39;00m\n\u001b[0;32m----> 2\u001b[0m \u001b[43mqdrant\u001b[49m\u001b[38;5;241m.\u001b[39mcount(collection_name\u001b[38;5;241m=\u001b[39m\u001b[38;5;124m'\u001b[39m\u001b[38;5;124mArticles\u001b[39m\u001b[38;5;124m'\u001b[39m)\n",
      "\u001b[0;31mNameError\u001b[0m: name 'qdrant' is not defined"
     ]
    }
   ],
   "source": [
    "# Check the collection size to make sure all the points have been stored\n",
    "qdrant.count(collection_name='Articles')"
   ]
  }
 ],
 "metadata": {
  "kernelspec": {
   "display_name": "llama3phidata",
   "language": "python",
   "name": "python3"
  },
  "language_info": {
   "codemirror_mode": {
    "name": "ipython",
    "version": 3
   },
   "file_extension": ".py",
   "mimetype": "text/x-python",
   "name": "python",
   "nbconvert_exporter": "python",
   "pygments_lexer": "ipython3",
   "version": "3.11.9"
  }
 },
 "nbformat": 4,
 "nbformat_minor": 2
}
